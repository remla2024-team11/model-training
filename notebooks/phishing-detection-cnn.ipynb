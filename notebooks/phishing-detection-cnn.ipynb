{
 "cells": [
  {
   "cell_type": "markdown",
   "id": "6a4615c5",
   "metadata": {
    "papermill": {
     "duration": 0.005353,
     "end_time": "2024-04-21T08:27:49.035170",
     "exception": false,
     "start_time": "2024-04-21T08:27:49.029817",
     "status": "completed"
    },
    "tags": []
   },
   "source": [
    "**Importing the Libraries**"
   ]
  },
  {
   "cell_type": "code",
   "execution_count": 1,
   "id": "86db5587",
   "metadata": {
    "execution": {
     "iopub.execute_input": "2024-04-21T08:27:49.046756Z",
     "iopub.status.busy": "2024-04-21T08:27:49.046006Z",
     "iopub.status.idle": "2024-04-21T08:28:03.973519Z",
     "shell.execute_reply": "2024-04-21T08:28:03.972694Z"
    },
    "papermill": {
     "duration": 14.935696,
     "end_time": "2024-04-21T08:28:03.975832",
     "exception": false,
     "start_time": "2024-04-21T08:27:49.040136",
     "status": "completed"
    },
    "tags": []
   },
   "outputs": [],
   "source": [
    "from sklearn.preprocessing import LabelEncoder\n",
    "from tensorflow.keras.preprocessing.text import Tokenizer\n",
    "import numpy as np\n",
    "import pandas as pd\n",
    "from tensorflow.keras.preprocessing.sequence import pad_sequences\n",
    "import matplotlib.pyplot as plt\n",
    "from keras.models import Sequential\n",
    "from keras.layers import Dense, Dropout, Embedding, Conv1D, MaxPooling1D, Flatten\n",
    "from keras.preprocessing.sequence import pad_sequences\n",
    "from sklearn.preprocessing import LabelEncoder\n",
    "from sklearn.metrics import classification_report, confusion_matrix"
   ]
  },
  {
   "cell_type": "markdown",
   "id": "6a881e82",
   "metadata": {
    "papermill": {
     "duration": 0.004549,
     "end_time": "2024-04-21T08:28:03.985276",
     "exception": false,
     "start_time": "2024-04-21T08:28:03.980727",
     "status": "completed"
    },
    "tags": []
   },
   "source": [
    "**Loading the Dataset**"
   ]
  },
  {
   "cell_type": "code",
   "execution_count": 2,
   "id": "581990fc",
   "metadata": {
    "execution": {
     "iopub.execute_input": "2024-04-21T08:28:03.995907Z",
     "iopub.status.busy": "2024-04-21T08:28:03.995372Z",
     "iopub.status.idle": "2024-04-21T08:28:08.559695Z",
     "shell.execute_reply": "2024-04-21T08:28:08.558700Z"
    },
    "papermill": {
     "duration": 4.572183,
     "end_time": "2024-04-21T08:28:08.562032",
     "exception": false,
     "start_time": "2024-04-21T08:28:03.989849",
     "status": "completed"
    },
    "tags": []
   },
   "outputs": [],
   "source": [
    "train = [line.strip() for line in open(\"../data/raw/train.txt\", \"r\").readlines()[1:]]\n",
    "raw_x_train = [line.split(\"\\t\")[1] for line in train]\n",
    "raw_y_train = [line.split(\"\\t\")[0] for line in train]\n",
    "\n",
    "test = [line.strip() for line in open(\"../data/raw/test.txt\", \"r\").readlines()]\n",
    "raw_x_test = [line.split(\"\\t\")[1] for line in test]\n",
    "raw_y_test = [line.split(\"\\t\")[0] for line in test]\n",
    "\n",
    "val=[line.strip() for line in open(\"../data/raw/val.txt\", \"r\").readlines()]\n",
    "raw_x_val=[line.split(\"\\t\")[1] for line in val]\n",
    "raw_y_val=[line.split(\"\\t\")[0] for line in val]\n"
   ]
  },
  {
   "cell_type": "markdown",
   "id": "da8d7780",
   "metadata": {
    "papermill": {
     "duration": 0.004581,
     "end_time": "2024-04-21T08:28:08.571515",
     "exception": false,
     "start_time": "2024-04-21T08:28:08.566934",
     "status": "completed"
    },
    "tags": []
   },
   "source": [
    "**Tokenizing the Dataset**"
   ]
  },
  {
   "cell_type": "code",
   "execution_count": 3,
   "id": "4e282fcf",
   "metadata": {
    "execution": {
     "iopub.execute_input": "2024-04-21T08:28:08.581883Z",
     "iopub.status.busy": "2024-04-21T08:28:08.581551Z",
     "iopub.status.idle": "2024-04-21T08:30:13.125795Z",
     "shell.execute_reply": "2024-04-21T08:30:13.124991Z"
    },
    "papermill": {
     "duration": 124.552009,
     "end_time": "2024-04-21T08:30:13.128145",
     "exception": false,
     "start_time": "2024-04-21T08:28:08.576136",
     "status": "completed"
    },
    "tags": []
   },
   "outputs": [],
   "source": [
    "tokenizer = Tokenizer(lower=True, char_level=True, oov_token='-n-')\n",
    "tokenizer.fit_on_texts(raw_x_train + raw_x_val + raw_x_test)\n",
    "char_index = tokenizer.word_index\n",
    "sequence_length=200\n",
    "x_train = pad_sequences(tokenizer.texts_to_sequences(raw_x_train), maxlen=sequence_length)\n",
    "x_val = pad_sequences(tokenizer.texts_to_sequences(raw_x_val), maxlen=sequence_length)\n",
    "x_test = pad_sequences(tokenizer.texts_to_sequences(raw_x_test), maxlen=sequence_length)\n",
    "\n",
    "encoder = LabelEncoder()\n",
    "\n",
    "y_train = encoder.fit_transform(raw_y_train)\n",
    "y_val = encoder.transform(raw_y_val)\n",
    "y_test = encoder.transform(raw_y_test)"
   ]
  },
  {
   "cell_type": "markdown",
   "id": "79b86741",
   "metadata": {
    "papermill": {
     "duration": 0.004392,
     "end_time": "2024-04-21T08:30:13.137808",
     "exception": false,
     "start_time": "2024-04-21T08:30:13.133416",
     "status": "completed"
    },
    "tags": []
   },
   "source": [
    "**Parameters**"
   ]
  },
  {
   "cell_type": "code",
   "execution_count": 4,
   "id": "e6f60641",
   "metadata": {
    "execution": {
     "iopub.execute_input": "2024-04-21T08:30:13.148572Z",
     "iopub.status.busy": "2024-04-21T08:30:13.147950Z",
     "iopub.status.idle": "2024-04-21T08:30:13.153168Z",
     "shell.execute_reply": "2024-04-21T08:30:13.152275Z"
    },
    "papermill": {
     "duration": 0.012662,
     "end_time": "2024-04-21T08:30:13.155026",
     "exception": false,
     "start_time": "2024-04-21T08:30:13.142364",
     "status": "completed"
    },
    "tags": []
   },
   "outputs": [],
   "source": [
    "params = {'loss_function': 'binary_crossentropy',\n",
    "                       'optimizer': 'adam',\n",
    "                       'sequence_length': 200,\n",
    "                       'batch_train': 5000,\n",
    "                       'batch_test': 5000,\n",
    "                       'categories': ['phishing', 'legitimate'],\n",
    "                       'char_index': None,\n",
    "                       'epoch': 30,\n",
    "                       'embedding_dimension': 50,\n",
    "                       'dataset_dir': \"../dataset/small_dataset/\"}"
   ]
  },
  {
   "cell_type": "markdown",
   "id": "bbf02f3b",
   "metadata": {
    "papermill": {
     "duration": 0.004389,
     "end_time": "2024-04-21T08:30:13.164191",
     "exception": false,
     "start_time": "2024-04-21T08:30:13.159802",
     "status": "completed"
    },
    "tags": []
   },
   "source": [
    "**Model Definition**"
   ]
  },
  {
   "cell_type": "code",
   "execution_count": 6,
   "id": "d8a776f1",
   "metadata": {
    "execution": {
     "iopub.execute_input": "2024-04-21T08:30:13.175303Z",
     "iopub.status.busy": "2024-04-21T08:30:13.174493Z",
     "iopub.status.idle": "2024-04-21T08:30:14.085406Z",
     "shell.execute_reply": "2024-04-21T08:30:14.084272Z"
    },
    "papermill": {
     "duration": 0.918683,
     "end_time": "2024-04-21T08:30:14.087757",
     "exception": false,
     "start_time": "2024-04-21T08:30:13.169074",
     "status": "completed"
    },
    "tags": []
   },
   "outputs": [
    {
     "name": "stdout",
     "output_type": "stream",
     "text": [
      "voc_size: 71\n"
     ]
    }
   ],
   "source": [
    "from keras.models import Sequential\n",
    "from keras.layers import Embedding, Conv1D, MaxPooling1D, Flatten, Dense\n",
    "model = Sequential()\n",
    "voc_size = len(char_index.keys())\n",
    "print(\"voc_size: {}\".format(voc_size))\n",
    "model.add(Embedding(voc_size + 1, 50))\n",
    "\n",
    "model.add(Conv1D(128, 3, activation='tanh'))\n",
    "model.add(MaxPooling1D(3))\n",
    "model.add(Dropout(0.2))\n",
    "\n",
    "model.add(Conv1D(128, 7, activation='tanh', padding='same'))\n",
    "model.add(Dropout(0.2))\n",
    "\n",
    "model.add(Conv1D(128, 5, activation='tanh', padding='same'))\n",
    "model.add(Dropout(0.2))\n",
    "\n",
    "model.add(Conv1D(128, 3, activation='tanh', padding='same'))\n",
    "model.add(MaxPooling1D(3))\n",
    "model.add(Dropout(0.2))\n",
    "\n",
    "model.add(Conv1D(128, 5, activation='tanh', padding='same'))\n",
    "model.add(Dropout(0.2))\n",
    "\n",
    "model.add(Conv1D(128, 3, activation='tanh', padding='same'))\n",
    "model.add(MaxPooling1D(3))\n",
    "model.add(Dropout(0.2))\n",
    "\n",
    "model.add(Conv1D(128, 3, activation='tanh', padding='same'))\n",
    "model.add(MaxPooling1D(3))\n",
    "model.add(Dropout(0.2))\n",
    "\n",
    "model.add(Flatten())\n",
    "\n",
    "model.add(Dense(len(params['categories'])-1, activation='sigmoid'))\n",
    "\n"
   ]
  },
  {
   "cell_type": "markdown",
   "id": "90b2a426",
   "metadata": {
    "papermill": {
     "duration": 0.005232,
     "end_time": "2024-04-21T08:30:14.098591",
     "exception": false,
     "start_time": "2024-04-21T08:30:14.093359",
     "status": "completed"
    },
    "tags": []
   },
   "source": [
    "**Training**"
   ]
  },
  {
   "cell_type": "code",
   "execution_count": 7,
   "id": "869988dd",
   "metadata": {
    "execution": {
     "iopub.execute_input": "2024-04-21T08:30:14.112043Z",
     "iopub.status.busy": "2024-04-21T08:30:14.111616Z",
     "iopub.status.idle": "2024-04-21T09:10:43.694728Z",
     "shell.execute_reply": "2024-04-21T09:10:43.693709Z"
    },
    "papermill": {
     "duration": 2429.591841,
     "end_time": "2024-04-21T09:10:43.697011",
     "exception": false,
     "start_time": "2024-04-21T08:30:14.105170",
     "status": "completed"
    },
    "tags": []
   },
   "outputs": [
    {
     "name": "stdout",
     "output_type": "stream",
     "text": [
      "Epoch 1/30\n",
      "\u001b[1m 22/210\u001b[0m \u001b[32m━━\u001b[0m\u001b[37m━━━━━━━━━━━━━━━━━━\u001b[0m \u001b[1m11:55\u001b[0m 4s/step - accuracy: 0.5704 - loss: 0.6743"
     ]
    },
    {
     "ename": "KeyboardInterrupt",
     "evalue": "",
     "output_type": "error",
     "traceback": [
      "\u001b[0;31m---------------------------------------------------------------------------\u001b[0m",
      "\u001b[0;31mKeyboardInterrupt\u001b[0m                         Traceback (most recent call last)",
      "Cell \u001b[0;32mIn[7], line 4\u001b[0m\n\u001b[1;32m      1\u001b[0m model\u001b[39m.\u001b[39mcompile(loss\u001b[39m=\u001b[39mparams[\u001b[39m'\u001b[39m\u001b[39mloss_function\u001b[39m\u001b[39m'\u001b[39m], optimizer\u001b[39m=\u001b[39mparams[\u001b[39m'\u001b[39m\u001b[39moptimizer\u001b[39m\u001b[39m'\u001b[39m], metrics\u001b[39m=\u001b[39m[\u001b[39m'\u001b[39m\u001b[39maccuracy\u001b[39m\u001b[39m'\u001b[39m])\n\u001b[0;32m----> 4\u001b[0m hist \u001b[39m=\u001b[39m model\u001b[39m.\u001b[39mfit(x_train, y_train,\n\u001b[1;32m      5\u001b[0m                 batch_size\u001b[39m=\u001b[39mparams[\u001b[39m'\u001b[39m\u001b[39mbatch_train\u001b[39m\u001b[39m'\u001b[39m],\n\u001b[1;32m      6\u001b[0m                 epochs\u001b[39m=\u001b[39mparams[\u001b[39m'\u001b[39m\u001b[39mepoch\u001b[39m\u001b[39m'\u001b[39m],\n\u001b[1;32m      7\u001b[0m                 shuffle\u001b[39m=\u001b[39m\u001b[39mTrue\u001b[39;00m,\n\u001b[1;32m      8\u001b[0m                 validation_data\u001b[39m=\u001b[39m(x_val, y_val)\n\u001b[1;32m      9\u001b[0m                 )\n",
      "File \u001b[0;32m~/anaconda3/envs/realm/lib/python3.11/site-packages/keras/src/utils/traceback_utils.py:117\u001b[0m, in \u001b[0;36mfilter_traceback.<locals>.error_handler\u001b[0;34m(*args, **kwargs)\u001b[0m\n\u001b[1;32m    115\u001b[0m filtered_tb \u001b[39m=\u001b[39m \u001b[39mNone\u001b[39;00m\n\u001b[1;32m    116\u001b[0m \u001b[39mtry\u001b[39;00m:\n\u001b[0;32m--> 117\u001b[0m     \u001b[39mreturn\u001b[39;00m fn(\u001b[39m*\u001b[39margs, \u001b[39m*\u001b[39m\u001b[39m*\u001b[39mkwargs)\n\u001b[1;32m    118\u001b[0m \u001b[39mexcept\u001b[39;00m \u001b[39mException\u001b[39;00m \u001b[39mas\u001b[39;00m e:\n\u001b[1;32m    119\u001b[0m     filtered_tb \u001b[39m=\u001b[39m _process_traceback_frames(e\u001b[39m.\u001b[39m__traceback__)\n",
      "File \u001b[0;32m~/anaconda3/envs/realm/lib/python3.11/site-packages/keras/src/backend/tensorflow/trainer.py:314\u001b[0m, in \u001b[0;36mTensorFlowTrainer.fit\u001b[0;34m(self, x, y, batch_size, epochs, verbose, callbacks, validation_split, validation_data, shuffle, class_weight, sample_weight, initial_epoch, steps_per_epoch, validation_steps, validation_batch_size, validation_freq)\u001b[0m\n\u001b[1;32m    312\u001b[0m \u001b[39mfor\u001b[39;00m step, iterator \u001b[39min\u001b[39;00m epoch_iterator\u001b[39m.\u001b[39menumerate_epoch():\n\u001b[1;32m    313\u001b[0m     callbacks\u001b[39m.\u001b[39mon_train_batch_begin(step)\n\u001b[0;32m--> 314\u001b[0m     logs \u001b[39m=\u001b[39m \u001b[39mself\u001b[39m\u001b[39m.\u001b[39mtrain_function(iterator)\n\u001b[1;32m    315\u001b[0m     logs \u001b[39m=\u001b[39m \u001b[39mself\u001b[39m\u001b[39m.\u001b[39m_pythonify_logs(logs)\n\u001b[1;32m    316\u001b[0m     callbacks\u001b[39m.\u001b[39mon_train_batch_end(step, logs)\n",
      "File \u001b[0;32m~/anaconda3/envs/realm/lib/python3.11/site-packages/tensorflow/python/util/traceback_utils.py:150\u001b[0m, in \u001b[0;36mfilter_traceback.<locals>.error_handler\u001b[0;34m(*args, **kwargs)\u001b[0m\n\u001b[1;32m    148\u001b[0m filtered_tb \u001b[39m=\u001b[39m \u001b[39mNone\u001b[39;00m\n\u001b[1;32m    149\u001b[0m \u001b[39mtry\u001b[39;00m:\n\u001b[0;32m--> 150\u001b[0m   \u001b[39mreturn\u001b[39;00m fn(\u001b[39m*\u001b[39margs, \u001b[39m*\u001b[39m\u001b[39m*\u001b[39mkwargs)\n\u001b[1;32m    151\u001b[0m \u001b[39mexcept\u001b[39;00m \u001b[39mException\u001b[39;00m \u001b[39mas\u001b[39;00m e:\n\u001b[1;32m    152\u001b[0m   filtered_tb \u001b[39m=\u001b[39m _process_traceback_frames(e\u001b[39m.\u001b[39m__traceback__)\n",
      "File \u001b[0;32m~/anaconda3/envs/realm/lib/python3.11/site-packages/tensorflow/python/eager/polymorphic_function/polymorphic_function.py:833\u001b[0m, in \u001b[0;36mFunction.__call__\u001b[0;34m(self, *args, **kwds)\u001b[0m\n\u001b[1;32m    830\u001b[0m compiler \u001b[39m=\u001b[39m \u001b[39m\"\u001b[39m\u001b[39mxla\u001b[39m\u001b[39m\"\u001b[39m \u001b[39mif\u001b[39;00m \u001b[39mself\u001b[39m\u001b[39m.\u001b[39m_jit_compile \u001b[39melse\u001b[39;00m \u001b[39m\"\u001b[39m\u001b[39mnonXla\u001b[39m\u001b[39m\"\u001b[39m\n\u001b[1;32m    832\u001b[0m \u001b[39mwith\u001b[39;00m OptionalXlaContext(\u001b[39mself\u001b[39m\u001b[39m.\u001b[39m_jit_compile):\n\u001b[0;32m--> 833\u001b[0m   result \u001b[39m=\u001b[39m \u001b[39mself\u001b[39m\u001b[39m.\u001b[39m_call(\u001b[39m*\u001b[39margs, \u001b[39m*\u001b[39m\u001b[39m*\u001b[39mkwds)\n\u001b[1;32m    835\u001b[0m new_tracing_count \u001b[39m=\u001b[39m \u001b[39mself\u001b[39m\u001b[39m.\u001b[39mexperimental_get_tracing_count()\n\u001b[1;32m    836\u001b[0m without_tracing \u001b[39m=\u001b[39m (tracing_count \u001b[39m==\u001b[39m new_tracing_count)\n",
      "File \u001b[0;32m~/anaconda3/envs/realm/lib/python3.11/site-packages/tensorflow/python/eager/polymorphic_function/polymorphic_function.py:878\u001b[0m, in \u001b[0;36mFunction._call\u001b[0;34m(self, *args, **kwds)\u001b[0m\n\u001b[1;32m    875\u001b[0m \u001b[39mself\u001b[39m\u001b[39m.\u001b[39m_lock\u001b[39m.\u001b[39mrelease()\n\u001b[1;32m    876\u001b[0m \u001b[39m# In this case we have not created variables on the first call. So we can\u001b[39;00m\n\u001b[1;32m    877\u001b[0m \u001b[39m# run the first trace but we should fail if variables are created.\u001b[39;00m\n\u001b[0;32m--> 878\u001b[0m results \u001b[39m=\u001b[39m tracing_compilation\u001b[39m.\u001b[39mcall_function(\n\u001b[1;32m    879\u001b[0m     args, kwds, \u001b[39mself\u001b[39m\u001b[39m.\u001b[39m_variable_creation_config\n\u001b[1;32m    880\u001b[0m )\n\u001b[1;32m    881\u001b[0m \u001b[39mif\u001b[39;00m \u001b[39mself\u001b[39m\u001b[39m.\u001b[39m_created_variables:\n\u001b[1;32m    882\u001b[0m   \u001b[39mraise\u001b[39;00m \u001b[39mValueError\u001b[39;00m(\u001b[39m\"\u001b[39m\u001b[39mCreating variables on a non-first call to a function\u001b[39m\u001b[39m\"\u001b[39m\n\u001b[1;32m    883\u001b[0m                    \u001b[39m\"\u001b[39m\u001b[39m decorated with tf.function.\u001b[39m\u001b[39m\"\u001b[39m)\n",
      "File \u001b[0;32m~/anaconda3/envs/realm/lib/python3.11/site-packages/tensorflow/python/eager/polymorphic_function/tracing_compilation.py:139\u001b[0m, in \u001b[0;36mcall_function\u001b[0;34m(args, kwargs, tracing_options)\u001b[0m\n\u001b[1;32m    137\u001b[0m bound_args \u001b[39m=\u001b[39m function\u001b[39m.\u001b[39mfunction_type\u001b[39m.\u001b[39mbind(\u001b[39m*\u001b[39margs, \u001b[39m*\u001b[39m\u001b[39m*\u001b[39mkwargs)\n\u001b[1;32m    138\u001b[0m flat_inputs \u001b[39m=\u001b[39m function\u001b[39m.\u001b[39mfunction_type\u001b[39m.\u001b[39munpack_inputs(bound_args)\n\u001b[0;32m--> 139\u001b[0m \u001b[39mreturn\u001b[39;00m function\u001b[39m.\u001b[39m_call_flat(  \u001b[39m# pylint: disable=protected-access\u001b[39;00m\n\u001b[1;32m    140\u001b[0m     flat_inputs, captured_inputs\u001b[39m=\u001b[39mfunction\u001b[39m.\u001b[39mcaptured_inputs\n\u001b[1;32m    141\u001b[0m )\n",
      "File \u001b[0;32m~/anaconda3/envs/realm/lib/python3.11/site-packages/tensorflow/python/eager/polymorphic_function/concrete_function.py:1322\u001b[0m, in \u001b[0;36mConcreteFunction._call_flat\u001b[0;34m(self, tensor_inputs, captured_inputs)\u001b[0m\n\u001b[1;32m   1318\u001b[0m possible_gradient_type \u001b[39m=\u001b[39m gradients_util\u001b[39m.\u001b[39mPossibleTapeGradientTypes(args)\n\u001b[1;32m   1319\u001b[0m \u001b[39mif\u001b[39;00m (possible_gradient_type \u001b[39m==\u001b[39m gradients_util\u001b[39m.\u001b[39mPOSSIBLE_GRADIENT_TYPES_NONE\n\u001b[1;32m   1320\u001b[0m     \u001b[39mand\u001b[39;00m executing_eagerly):\n\u001b[1;32m   1321\u001b[0m   \u001b[39m# No tape is watching; skip to running the function.\u001b[39;00m\n\u001b[0;32m-> 1322\u001b[0m   \u001b[39mreturn\u001b[39;00m \u001b[39mself\u001b[39m\u001b[39m.\u001b[39m_inference_function\u001b[39m.\u001b[39mcall_preflattened(args)\n\u001b[1;32m   1323\u001b[0m forward_backward \u001b[39m=\u001b[39m \u001b[39mself\u001b[39m\u001b[39m.\u001b[39m_select_forward_and_backward_functions(\n\u001b[1;32m   1324\u001b[0m     args,\n\u001b[1;32m   1325\u001b[0m     possible_gradient_type,\n\u001b[1;32m   1326\u001b[0m     executing_eagerly)\n\u001b[1;32m   1327\u001b[0m forward_function, args_with_tangents \u001b[39m=\u001b[39m forward_backward\u001b[39m.\u001b[39mforward()\n",
      "File \u001b[0;32m~/anaconda3/envs/realm/lib/python3.11/site-packages/tensorflow/python/eager/polymorphic_function/atomic_function.py:216\u001b[0m, in \u001b[0;36mAtomicFunction.call_preflattened\u001b[0;34m(self, args)\u001b[0m\n\u001b[1;32m    214\u001b[0m \u001b[39mdef\u001b[39;00m \u001b[39mcall_preflattened\u001b[39m(\u001b[39mself\u001b[39m, args: Sequence[core\u001b[39m.\u001b[39mTensor]) \u001b[39m-\u001b[39m\u001b[39m>\u001b[39m Any:\n\u001b[1;32m    215\u001b[0m \u001b[39m  \u001b[39m\u001b[39m\"\"\"Calls with flattened tensor inputs and returns the structured output.\"\"\"\u001b[39;00m\n\u001b[0;32m--> 216\u001b[0m   flat_outputs \u001b[39m=\u001b[39m \u001b[39mself\u001b[39m\u001b[39m.\u001b[39mcall_flat(\u001b[39m*\u001b[39margs)\n\u001b[1;32m    217\u001b[0m   \u001b[39mreturn\u001b[39;00m \u001b[39mself\u001b[39m\u001b[39m.\u001b[39mfunction_type\u001b[39m.\u001b[39mpack_output(flat_outputs)\n",
      "File \u001b[0;32m~/anaconda3/envs/realm/lib/python3.11/site-packages/tensorflow/python/eager/polymorphic_function/atomic_function.py:251\u001b[0m, in \u001b[0;36mAtomicFunction.call_flat\u001b[0;34m(self, *args)\u001b[0m\n\u001b[1;32m    249\u001b[0m \u001b[39mwith\u001b[39;00m record\u001b[39m.\u001b[39mstop_recording():\n\u001b[1;32m    250\u001b[0m   \u001b[39mif\u001b[39;00m \u001b[39mself\u001b[39m\u001b[39m.\u001b[39m_bound_context\u001b[39m.\u001b[39mexecuting_eagerly():\n\u001b[0;32m--> 251\u001b[0m     outputs \u001b[39m=\u001b[39m \u001b[39mself\u001b[39m\u001b[39m.\u001b[39m_bound_context\u001b[39m.\u001b[39mcall_function(\n\u001b[1;32m    252\u001b[0m         \u001b[39mself\u001b[39m\u001b[39m.\u001b[39mname,\n\u001b[1;32m    253\u001b[0m         \u001b[39mlist\u001b[39m(args),\n\u001b[1;32m    254\u001b[0m         \u001b[39mlen\u001b[39m(\u001b[39mself\u001b[39m\u001b[39m.\u001b[39mfunction_type\u001b[39m.\u001b[39mflat_outputs),\n\u001b[1;32m    255\u001b[0m     )\n\u001b[1;32m    256\u001b[0m   \u001b[39melse\u001b[39;00m:\n\u001b[1;32m    257\u001b[0m     outputs \u001b[39m=\u001b[39m make_call_op_in_graph(\n\u001b[1;32m    258\u001b[0m         \u001b[39mself\u001b[39m,\n\u001b[1;32m    259\u001b[0m         \u001b[39mlist\u001b[39m(args),\n\u001b[1;32m    260\u001b[0m         \u001b[39mself\u001b[39m\u001b[39m.\u001b[39m_bound_context\u001b[39m.\u001b[39mfunction_call_options\u001b[39m.\u001b[39mas_attrs(),\n\u001b[1;32m    261\u001b[0m     )\n",
      "File \u001b[0;32m~/anaconda3/envs/realm/lib/python3.11/site-packages/tensorflow/python/eager/context.py:1500\u001b[0m, in \u001b[0;36mContext.call_function\u001b[0;34m(self, name, tensor_inputs, num_outputs)\u001b[0m\n\u001b[1;32m   1498\u001b[0m cancellation_context \u001b[39m=\u001b[39m cancellation\u001b[39m.\u001b[39mcontext()\n\u001b[1;32m   1499\u001b[0m \u001b[39mif\u001b[39;00m cancellation_context \u001b[39mis\u001b[39;00m \u001b[39mNone\u001b[39;00m:\n\u001b[0;32m-> 1500\u001b[0m   outputs \u001b[39m=\u001b[39m execute\u001b[39m.\u001b[39mexecute(\n\u001b[1;32m   1501\u001b[0m       name\u001b[39m.\u001b[39mdecode(\u001b[39m\"\u001b[39m\u001b[39mutf-8\u001b[39m\u001b[39m\"\u001b[39m),\n\u001b[1;32m   1502\u001b[0m       num_outputs\u001b[39m=\u001b[39mnum_outputs,\n\u001b[1;32m   1503\u001b[0m       inputs\u001b[39m=\u001b[39mtensor_inputs,\n\u001b[1;32m   1504\u001b[0m       attrs\u001b[39m=\u001b[39mattrs,\n\u001b[1;32m   1505\u001b[0m       ctx\u001b[39m=\u001b[39m\u001b[39mself\u001b[39m,\n\u001b[1;32m   1506\u001b[0m   )\n\u001b[1;32m   1507\u001b[0m \u001b[39melse\u001b[39;00m:\n\u001b[1;32m   1508\u001b[0m   outputs \u001b[39m=\u001b[39m execute\u001b[39m.\u001b[39mexecute_with_cancellation(\n\u001b[1;32m   1509\u001b[0m       name\u001b[39m.\u001b[39mdecode(\u001b[39m\"\u001b[39m\u001b[39mutf-8\u001b[39m\u001b[39m\"\u001b[39m),\n\u001b[1;32m   1510\u001b[0m       num_outputs\u001b[39m=\u001b[39mnum_outputs,\n\u001b[0;32m   (...)\u001b[0m\n\u001b[1;32m   1514\u001b[0m       cancellation_manager\u001b[39m=\u001b[39mcancellation_context,\n\u001b[1;32m   1515\u001b[0m   )\n",
      "File \u001b[0;32m~/anaconda3/envs/realm/lib/python3.11/site-packages/tensorflow/python/eager/execute.py:53\u001b[0m, in \u001b[0;36mquick_execute\u001b[0;34m(op_name, num_outputs, inputs, attrs, ctx, name)\u001b[0m\n\u001b[1;32m     51\u001b[0m \u001b[39mtry\u001b[39;00m:\n\u001b[1;32m     52\u001b[0m   ctx\u001b[39m.\u001b[39mensure_initialized()\n\u001b[0;32m---> 53\u001b[0m   tensors \u001b[39m=\u001b[39m pywrap_tfe\u001b[39m.\u001b[39mTFE_Py_Execute(ctx\u001b[39m.\u001b[39m_handle, device_name, op_name,\n\u001b[1;32m     54\u001b[0m                                       inputs, attrs, num_outputs)\n\u001b[1;32m     55\u001b[0m \u001b[39mexcept\u001b[39;00m core\u001b[39m.\u001b[39m_NotOkStatusException \u001b[39mas\u001b[39;00m e:\n\u001b[1;32m     56\u001b[0m   \u001b[39mif\u001b[39;00m name \u001b[39mis\u001b[39;00m \u001b[39mnot\u001b[39;00m \u001b[39mNone\u001b[39;00m:\n",
      "\u001b[0;31mKeyboardInterrupt\u001b[0m: "
     ]
    }
   ],
   "source": [
    "model.compile(loss=params['loss_function'], optimizer=params['optimizer'], metrics=['accuracy'])\n",
    "\n",
    "\n",
    "hist = model.fit(x_train, y_train,\n",
    "                batch_size=params['batch_train'],\n",
    "                epochs=params['epoch'],\n",
    "                shuffle=True,\n",
    "                validation_data=(x_val, y_val)\n",
    "                )\n"
   ]
  },
  {
   "cell_type": "markdown",
   "id": "72e7489d",
   "metadata": {
    "papermill": {
     "duration": 0.512842,
     "end_time": "2024-04-21T09:10:44.741225",
     "exception": false,
     "start_time": "2024-04-21T09:10:44.228383",
     "status": "completed"
    },
    "tags": []
   },
   "source": [
    "**Prediction**"
   ]
  },
  {
   "cell_type": "code",
   "execution_count": 7,
   "id": "c5147300",
   "metadata": {
    "execution": {
     "iopub.execute_input": "2024-04-21T09:10:45.819590Z",
     "iopub.status.busy": "2024-04-21T09:10:45.819246Z",
     "iopub.status.idle": "2024-04-21T09:10:56.717387Z",
     "shell.execute_reply": "2024-04-21T09:10:56.716256Z"
    },
    "papermill": {
     "duration": 11.461596,
     "end_time": "2024-04-21T09:10:56.719521",
     "exception": false,
     "start_time": "2024-04-21T09:10:45.257925",
     "status": "completed"
    },
    "tags": []
   },
   "outputs": [
    {
     "name": "stdout",
     "output_type": "stream",
     "text": [
      "\u001b[1m365/365\u001b[0m \u001b[32m━━━━━━━━━━━━━━━━━━━━\u001b[0m\u001b[37m\u001b[0m \u001b[1m10s\u001b[0m 20ms/step\n",
      "[[3.0322914e-04]\n",
      " [9.9987245e-01]\n",
      " [9.9953967e-01]\n",
      " ...\n",
      " [2.5733060e-04]\n",
      " [9.9827147e-01]\n",
      " [9.9795902e-01]]\n"
     ]
    }
   ],
   "source": [
    "y_pred = model.predict(x_test, batch_size=1000)\n",
    "print(y_pred)\n",
    "\n"
   ]
  },
  {
   "cell_type": "markdown",
   "id": "55306633",
   "metadata": {
    "papermill": {
     "duration": 0.556014,
     "end_time": "2024-04-21T09:10:57.819210",
     "exception": false,
     "start_time": "2024-04-21T09:10:57.263196",
     "status": "completed"
    },
    "tags": []
   },
   "source": [
    "**Prediction**"
   ]
  },
  {
   "cell_type": "code",
   "execution_count": 8,
   "id": "8ba4da17",
   "metadata": {
    "execution": {
     "iopub.execute_input": "2024-04-21T09:10:58.945177Z",
     "iopub.status.busy": "2024-04-21T09:10:58.944251Z",
     "iopub.status.idle": "2024-04-21T09:10:59.196816Z",
     "shell.execute_reply": "2024-04-21T09:10:59.195678Z"
    },
    "papermill": {
     "duration": 0.794545,
     "end_time": "2024-04-21T09:10:59.199537",
     "exception": false,
     "start_time": "2024-04-21T09:10:58.404992",
     "status": "completed"
    },
    "tags": []
   },
   "outputs": [
    {
     "name": "stdout",
     "output_type": "stream",
     "text": [
      "Classification Report:\n",
      "              precision    recall  f1-score   support\n",
      "\n",
      "           0       0.97      0.99      0.98    201736\n",
      "           1       0.99      0.97      0.98    162463\n",
      "\n",
      "    accuracy                           0.98    364199\n",
      "   macro avg       0.98      0.98      0.98    364199\n",
      "weighted avg       0.98      0.98      0.98    364199\n",
      "\n",
      "Confusion Matrix: [[200168   1568]\n",
      " [  5320 157143]]\n",
      "Accuracy: 0.9810872627327367\n"
     ]
    }
   ],
   "source": [
    "from sklearn.metrics import classification_report, confusion_matrix,accuracy_score\n",
    "\n",
    "# Convert predicted probabilities to binary labels\n",
    "y_pred_binary = (np.array(y_pred) > 0.5).astype(int)\n",
    "y_test=y_test.reshape(-1,1)\n",
    "\n",
    "# Calculate classification report\n",
    "report = classification_report(y_test, y_pred_binary)\n",
    "print('Classification Report:')\n",
    "print(report)\n",
    "\n",
    "# Calculate confusion matrix\n",
    "confusion_mat = confusion_matrix(y_test, y_pred_binary)\n",
    "print('Confusion Matrix:', confusion_mat)\n",
    "print('Accuracy:',accuracy_score(y_test,y_pred_binary))"
   ]
  },
  {
   "cell_type": "markdown",
   "id": "e8d7ae2d",
   "metadata": {
    "papermill": {
     "duration": 0.529743,
     "end_time": "2024-04-21T09:11:00.312783",
     "exception": false,
     "start_time": "2024-04-21T09:10:59.783040",
     "status": "completed"
    },
    "tags": []
   },
   "source": [
    "**Confusion Matrix **"
   ]
  },
  {
   "cell_type": "code",
   "execution_count": 9,
   "id": "b2066dcd",
   "metadata": {
    "execution": {
     "iopub.execute_input": "2024-04-21T09:11:01.373701Z",
     "iopub.status.busy": "2024-04-21T09:11:01.373290Z",
     "iopub.status.idle": "2024-04-21T09:11:02.029483Z",
     "shell.execute_reply": "2024-04-21T09:11:02.028465Z"
    },
    "papermill": {
     "duration": 1.188711,
     "end_time": "2024-04-21T09:11:02.031792",
     "exception": false,
     "start_time": "2024-04-21T09:11:00.843081",
     "status": "completed"
    },
    "tags": []
   },
   "outputs": [
    {
     "data": {
      "text/plain": [
       "<Axes: >"
      ]
     },
     "execution_count": 9,
     "metadata": {},
     "output_type": "execute_result"
    },
    {
     "data": {
      "image/png": "[encoded data removed]",
      "text/plain": [
       "<Figure size 640x480 with 2 Axes>"
      ]
     },
     "metadata": {},
     "output_type": "display_data"
    }
   ],
   "source": [
    "import seaborn as sns\n",
    "sns.heatmap(confusion_mat,annot=True)"
   ]
  }
 ],
 "metadata": {
  "kaggle": {
   "accelerator": "nvidiaTeslaT4",
   "dataSources": [
    {
     "datasetId": 4696964,
     "sourceId": 7980464,
     "sourceType": "datasetVersion"
    }
   ],
   "isGpuEnabled": true,
   "isInternetEnabled": false,
   "language": "python",
   "sourceType": "notebook"
  },
  "kernelspec": {
   "display_name": "Python 3.11.9 ('realm')",
   "language": "python",
   "name": "python3"
  },
  "language_info": {
   "codemirror_mode": {
    "name": "ipython",
    "version": 3
   },
   "file_extension": ".py",
   "mimetype": "text/x-python",
   "name": "python",
   "nbconvert_exporter": "python",
   "pygments_lexer": "ipython3",
   "version": "3.11.9"
  },
  "papermill": {
   "default_parameters": {},
   "duration": 2599.792659,
   "end_time": "2024-04-21T09:11:05.861552",
   "environment_variables": {},
   "exception": null,
   "input_path": "__notebook__.ipynb",
   "output_path": "__notebook__.ipynb",
   "parameters": {},
   "start_time": "2024-04-21T08:27:46.068893",
   "version": "2.5.0"
  },
  "vscode": {
   "interpreter": {
    "hash": "bdcae6937e42ae86b5d9bbdfeddc6704e3f2a2b0def91312d923e06142074e0b"
   }
  }
 },
 "nbformat": 4,
 "nbformat_minor": 5
}
